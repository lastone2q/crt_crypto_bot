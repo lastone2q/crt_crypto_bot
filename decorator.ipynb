{
 "cells": [
  {
   "cell_type": "code",
   "execution_count": 226,
   "metadata": {},
   "outputs": [],
   "source": [
    "import random\n",
    "import sympy\n",
    "import itertools\n",
    "import numpy as np"
   ]
  },
  {
   "cell_type": "code",
   "execution_count": 1,
   "metadata": {},
   "outputs": [],
   "source": [
    "message = \"Hello World\""
   ]
  },
  {
   "cell_type": "code",
   "execution_count": null,
   "metadata": {},
   "outputs": [],
   "source": [
    "config  = {\n",
    "    \"layers\" : 2,\n",
    "    'key_length': 3\n",
    "}"
   ]
  },
  {
   "cell_type": "code",
   "execution_count": 4,
   "metadata": {},
   "outputs": [],
   "source": [
    "class Message():\n",
    "    \n",
    "    def message(self)->None:\n",
    "        pass"
   ]
  },
  {
   "cell_type": "code",
   "execution_count": 10,
   "metadata": {},
   "outputs": [
    {
     "data": {
      "text/plain": [
       "[8, 5, 12, 12, 15, 23, 15, 18, 12, 4]"
      ]
     },
     "execution_count": 10,
     "metadata": {},
     "output_type": "execute_result"
    }
   ],
   "source": [
    "class EncryptedTextMessage(Message):\n",
    "    \n",
    "    def encrypt_message(self, message: str) -> list:\n",
    "        \n",
    "        encrypted_numbers = []\n",
    "        for char in message:\n",
    "            if char.isalpha():\n",
    "                char = char.upper()\n",
    "                number = ord(char) - 64\n",
    "                encrypted_numbers.append(number)\n",
    "                \n",
    "        return encrypted_numbers\n",
    "    \n",
    "EncryptedTextMessage().encrypt_message(\"Hello World\")    "
   ]
  },
  {
   "cell_type": "code",
   "execution_count": 12,
   "metadata": {},
   "outputs": [
    {
     "data": {
      "text/plain": [
       "[8, 5, 12, 12, 15, 23, 15, 18, 12, 4]"
      ]
     },
     "execution_count": 12,
     "metadata": {},
     "output_type": "execute_result"
    }
   ],
   "source": [
    "class DecryptedTextMessage(Message):\n",
    "    \n",
    "    def decrypt_message(self, numbers: list)->str:\n",
    "        decrypted_message = ''\n",
    "        for num in numbers:\n",
    "            decrypted_number = (num - 1) % 26\n",
    "            decrypted_char = chr(decrypted_number + 65)\n",
    "            decrypted_message += decrypted_char\n",
    "        return decrypted_message\n",
    "    \n",
    "    \n",
    "\n",
    "EncryptedTextMessage().encrypt_message(\"Hello World\")  "
   ]
  },
  {
   "cell_type": "code",
   "execution_count": 706,
   "metadata": {},
   "outputs": [],
   "source": [
    "class EncoderLayer(Message):\n",
    "\n",
    "    def __init__(self, real_message:str, layers:int, keys_per_layer:int) -> None:\n",
    "    \n",
    "        self._layers = layers\n",
    "        self._actual_encoded_layers = 0\n",
    "        self._real_message =real_message\n",
    "        self._keys_per_layer = keys_per_layer\n",
    "        self._encrypted_message = EncryptedTextMessage().encrypt_message(\"Hello World\") \n",
    "        self.generate_keys_for_layers()\n",
    "        self._encrypted_numbers = {\n",
    "            \"converted message\" :  self._encrypted_message \n",
    "        }\n",
    "    def generate_keys_for_layers(self)->dict:\n",
    "        \n",
    "        def generate_prime(min_value, max_value):\n",
    "            # Generate a random number within the specified range\n",
    "            number = random.randint(min_value, max_value)\n",
    "\n",
    "            # Find the next prime number greater than or equal to the generated number\n",
    "            prime = sympy.nextprime(number)\n",
    "\n",
    "            return prime\n",
    "        \n",
    "        layers_keys = {}\n",
    "        for i in range(self._layers):\n",
    "            \n",
    "            keys = [generate_prime(1,10000) for i in range(self._keys_per_layer)]\n",
    "            \n",
    "            layers_keys[f\"{i+1}\"] = keys\n",
    "            \n",
    "        self._layers_keys = layers_keys\n",
    "        \n",
    "    def encrypt_number(self, number:int, keys: list)->list:\n",
    "       \n",
    "        remainders=[]\n",
    "        for i in keys:\n",
    "            remainders.append( number % i )\n",
    "            \n",
    "        return remainders\n",
    "    def encrypt_message(self)->None:\n",
    "        \n",
    "        numbers = list(self._encrypted_numbers.values())[self._actual_encoded_layers]\n",
    "        new_layer = []\n",
    "        self._actual_encoded_layers = self._actual_encoded_layers+1\n",
    "        for i in numbers:\n",
    "            new_layer.append(self.encrypt_number(i, self._layers_keys[f\"{self._actual_encoded_layers}\"]))\n",
    "            \n",
    "        reshaped_list = [element for sublist in new_layer for element in sublist]\n",
    "\n",
    "        self._encrypted_numbers[f\"Layer {self._actual_encoded_layers}\"] = reshaped_list\n",
    "        \n",
    "       \n",
    "        if self.check_acess():\n",
    "            \n",
    "            return self._encrypted_numbers, self._layers_keys\n",
    "        else:\n",
    "            return self.encrypt_message()\n",
    "    def check_acess(self):\n",
    "        \n",
    "        return self._layers == self._actual_encoded_layers\n",
    "    \n",
    "     \n",
    "    \n",
    "layers, keys = EncoderLayer(\"Hello world\",3,4).encrypt_message()\n"
   ]
  },
  {
   "cell_type": "code",
   "execution_count": 707,
   "metadata": {},
   "outputs": [],
   "source": [
    "last_layer = dict(itertools.islice(layers.items(), len(layers.items())-1,len(layers.items())))"
   ]
  },
  {
   "cell_type": "code",
   "execution_count": 804,
   "metadata": {},
   "outputs": [
    {
     "name": "stdout",
     "output_type": "stream",
     "text": [
      "HELLOWORLD\n"
     ]
    },
    {
     "name": "stderr",
     "output_type": "stream",
     "text": [
      "C:\\Users\\Soler\\AppData\\Local\\Temp\\ipykernel_13492\\950316586.py:7: DeprecationWarning: an integer is required (got type decimal.Decimal).  Implicit conversion to integers using __int__ is deprecated, and may be removed in a future version of Python.\n",
      "  decrypted_char = chr(decrypted_number + 65)\n"
     ]
    }
   ],
   "source": [
    "from decimal import Decimal\n",
    "\n",
    "class DecoderLayer(Message):\n",
    "    \n",
    "    def __init__(self,last_layer:dict, keys:dict) -> None:\n",
    "        \n",
    "        self._layer = np.array(list(last_layer.values())[0])\n",
    "        self._keys = keys\n",
    "        self._decoded_layers = 0\n",
    "        self._decrypted_numbers = {}\n",
    "        self._quantity_of_values_from_last_layer = len(list(keys.values())[0]) #len(list(keys.values())[0])**len(keys.keys())\n",
    "        \n",
    "    def chinese_remainder_theorem(self, modules, remainders):\n",
    "        # Step 3: Calculate N\n",
    "        N = 1\n",
    "        for mod in modules:\n",
    "            N *= mod\n",
    "\n",
    "        result = 0\n",
    "        for i in range(len(modules)):\n",
    "            mod = modules[i]\n",
    "            remainder = remainders[i]\n",
    "\n",
    "            # Step 4: Calculate n_i\n",
    "            n_i = N // mod\n",
    "\n",
    "            # Step 5: Calculate x_i\n",
    "            x_i = pow(n_i, -1, mod)  # Modular multiplicative inverse\n",
    "\n",
    "            result += remainder * Decimal( n_i ) * Decimal(x_i)\n",
    "\n",
    "        # Step 6: Calculate the final result\n",
    "        return result % N\n",
    "    \n",
    "    \n",
    "    def decrypt_message(self):\n",
    "        \n",
    "        quntity_of_values = self._quantity_of_values_from_last_layer \n",
    "        \n",
    "        last_layer = self._layer.reshape(-1,quntity_of_values)\n",
    "        \n",
    "        for i in self._keys.__reversed__():\n",
    "            modules = self._keys[i]\n",
    "            new_layer = []\n",
    "            self._decoded_layers += 1\n",
    "            for numbers in last_layer:\n",
    "                new_layer.append(self.chinese_remainder_theorem(modules, numbers))\n",
    "\n",
    "            \n",
    "            self._decrypted_numbers[f\"Decoded numbers from layer {i}\"] = new_layer\n",
    "            if len(self._keys.items()) != self._decoded_layers:\n",
    "                last_layer = np.array(new_layer).reshape(-1,quntity_of_values)\n",
    "                \n",
    "  \n",
    "        if self.check_acess():\n",
    "            return DecryptedTextMessage().decrypt_message(self._decrypted_numbers[list(self._decrypted_numbers.keys())[-1]]), self._decrypted_numbers\n",
    "        \n",
    "    def check_acess(self):\n",
    "        \n",
    "        return self._decoded_layers == len(self._keys.items())\n",
    "\n",
    "try:\n",
    "    \n",
    "    layers, keys = EncoderLayer(\"Hello world\",2,4).encrypt_message()\n",
    "    last_layer = dict(itertools.islice(layers.items(), len(layers.items())-1,len(layers.items())))\n",
    "    word, layers = DecoderLayer(last_layer,keys).decrypt_message()\n",
    "    print(word)\n",
    "except ValueError as e:\n",
    "    print(e)\n",
    "\n",
    "\n",
    "\n"
   ]
  },
  {
   "cell_type": "code",
   "execution_count": null,
   "metadata": {},
   "outputs": [],
   "source": []
  },
  {
   "cell_type": "code",
   "execution_count": null,
   "metadata": {},
   "outputs": [],
   "source": []
  }
 ],
 "metadata": {
  "kernelspec": {
   "display_name": "Python 3",
   "language": "python",
   "name": "python3"
  },
  "language_info": {
   "codemirror_mode": {
    "name": "ipython",
    "version": 3
   },
   "file_extension": ".py",
   "mimetype": "text/x-python",
   "name": "python",
   "nbconvert_exporter": "python",
   "pygments_lexer": "ipython3",
   "version": "3.9.8"
  },
  "orig_nbformat": 4
 },
 "nbformat": 4,
 "nbformat_minor": 2
}
