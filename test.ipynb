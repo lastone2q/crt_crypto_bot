{
 "cells": [
  {
   "cell_type": "code",
   "execution_count": 120,
   "metadata": {},
   "outputs": [],
   "source": [
    "def encrypt(number, keys):\n",
    "    remainders=\"\"\n",
    "    for i in keys:\n",
    "        remainders += str( number % i )+\" \"\n",
    "        \n",
    "        # print(str( number % i ))\n",
    "    return remainders"
   ]
  },
  {
   "cell_type": "code",
   "execution_count": 121,
   "metadata": {},
   "outputs": [],
   "source": [
    "message = \"Hello Wrot\""
   ]
  },
  {
   "cell_type": "code",
   "execution_count": 122,
   "metadata": {},
   "outputs": [],
   "source": [
    "def decrypt_numbers(numbers):\n",
    "    decrypted_message = ''\n",
    "    for num in numbers:\n",
    "        decrypted_number = (num - 1) % 26\n",
    "        decrypted_char = chr(decrypted_number + 65)\n",
    "        decrypted_message += decrypted_char\n",
    "    return decrypted_message"
   ]
  },
  {
   "cell_type": "code",
   "execution_count": 123,
   "metadata": {},
   "outputs": [],
   "source": [
    "def encrypt_message(message):\n",
    "    encrypted_numbers = []\n",
    "    for char in message:\n",
    "        if char.isalpha():\n",
    "            char = char.upper()\n",
    "            number = ord(char) - 64\n",
    "            encrypted_numbers.append(number)\n",
    "    return encrypted_numbers\n",
    "encrypted_message = encrypt_message(message)"
   ]
  },
  {
   "cell_type": "code",
   "execution_count": 124,
   "metadata": {},
   "outputs": [
    {
     "data": {
      "text/plain": [
       "[8, 5, 12, 12, 15, 23, 18, 15, 20]"
      ]
     },
     "execution_count": 124,
     "metadata": {},
     "output_type": "execute_result"
    }
   ],
   "source": [
    "encrypted_message"
   ]
  },
  {
   "cell_type": "code",
   "execution_count": 165,
   "metadata": {},
   "outputs": [],
   "source": [
    "def layer_encryption(encrypted_message, keys):\n",
    "   \n",
    "   layer_first_str = \"\"\n",
    "   print(encrypted_message, keys)\n",
    "   for i in encrypted_message:\n",
    "      \n",
    "      layer_first_str += encrypt(i, keys)+\",\"\n",
    "   return layer_first_str[:-1]\n",
    "   "
   ]
  },
  {
   "cell_type": "code",
   "execution_count": 166,
   "metadata": {},
   "outputs": [
    {
     "name": "stdout",
     "output_type": "stream",
     "text": [
      "[8, 5, 12, 12, 15, 23, 18, 15, 20] [7, 11, 13]\n"
     ]
    },
    {
     "data": {
      "text/plain": [
       "'1 8 8 ,5 5 5 ,5 1 12 ,5 1 12 ,1 4 2 ,2 1 10 ,4 7 5 ,1 4 2 ,6 9 7 '"
      ]
     },
     "execution_count": 166,
     "metadata": {},
     "output_type": "execute_result"
    }
   ],
   "source": [
    "layer_encryption(encrypted_message, keys)"
   ]
  },
  {
   "cell_type": "code",
   "execution_count": 167,
   "metadata": {},
   "outputs": [
    {
     "name": "stdout",
     "output_type": "stream",
     "text": [
      "[8, 5, 12, 12, 15, 23, 18, 15, 20] [7, 11, 13]\n",
      "1 8 8 ,5 5 5 ,5 1 12 ,5 1 12 ,1 4 2 ,2 1 10 ,4 7 5 ,1 4 2 ,6 9 7  [1, 3, 5]\n"
     ]
    },
    {
     "ename": "TypeError",
     "evalue": "not all arguments converted during string formatting",
     "output_type": "error",
     "traceback": [
      "\u001b[1;31m---------------------------------------------------------------------------\u001b[0m",
      "\u001b[1;31mTypeError\u001b[0m                                 Traceback (most recent call last)",
      "Cell \u001b[1;32mIn[167], line 1\u001b[0m\n\u001b[1;32m----> 1\u001b[0m layer_encryption(layer_encryption(encrypted_message,keys),keys_q)\n",
      "Cell \u001b[1;32mIn[165], line 7\u001b[0m, in \u001b[0;36mlayer_encryption\u001b[1;34m(encrypted_message, keys)\u001b[0m\n\u001b[0;32m      4\u001b[0m \u001b[39mprint\u001b[39m(encrypted_message, keys)\n\u001b[0;32m      5\u001b[0m \u001b[39mfor\u001b[39;00m i \u001b[39min\u001b[39;00m encrypted_message:\n\u001b[1;32m----> 7\u001b[0m    layer_first_str \u001b[39m+\u001b[39m\u001b[39m=\u001b[39m encrypt(i, keys)\u001b[39m+\u001b[39m\u001b[39m\"\u001b[39m\u001b[39m,\u001b[39m\u001b[39m\"\u001b[39m\n\u001b[0;32m      8\u001b[0m \u001b[39mreturn\u001b[39;00m layer_first_str[:\u001b[39m-\u001b[39m\u001b[39m1\u001b[39m]\n",
      "Cell \u001b[1;32mIn[120], line 4\u001b[0m, in \u001b[0;36mencrypt\u001b[1;34m(number, keys)\u001b[0m\n\u001b[0;32m      2\u001b[0m remainders\u001b[39m=\u001b[39m\u001b[39m\"\u001b[39m\u001b[39m\"\u001b[39m\n\u001b[0;32m      3\u001b[0m \u001b[39mfor\u001b[39;00m i \u001b[39min\u001b[39;00m keys:\n\u001b[1;32m----> 4\u001b[0m     remainders \u001b[39m+\u001b[39m\u001b[39m=\u001b[39m \u001b[39mstr\u001b[39m( number \u001b[39m%\u001b[39;49m i )\u001b[39m+\u001b[39m\u001b[39m\"\u001b[39m\u001b[39m \u001b[39m\u001b[39m\"\u001b[39m\n\u001b[0;32m      6\u001b[0m     \u001b[39m# print(str( number % i ))\u001b[39;00m\n\u001b[0;32m      7\u001b[0m \u001b[39mreturn\u001b[39;00m remainders\n",
      "\u001b[1;31mTypeError\u001b[0m: not all arguments converted during string formatting"
     ]
    }
   ],
   "source": [
    "layer_encryption(layer_encryption(encrypted_message,keys),keys_q)"
   ]
  },
  {
   "cell_type": "code",
   "execution_count": 126,
   "metadata": {},
   "outputs": [],
   "source": [
    "def split_string(string, separetor):\n",
    "    return string.split(separetor)\n",
    "\n"
   ]
  },
  {
   "cell_type": "code",
   "execution_count": 143,
   "metadata": {},
   "outputs": [],
   "source": [
    "def layer_decryption(numbers:str, keys):\n",
    "    \n",
    "    separator = \",\"\n",
    "    final_word = []\n",
    "    for i in split_string(numbers, separator)[:-1]:\n",
    "       \n",
    "        number = split_string(i,\" \")\n",
    "        number = number[:-1]\n",
    "        number = [  int(i) for i in number]\n",
    "      \n",
    "        final_word.append(chinese_remainder_theorem(keys,number))\n",
    "    \n",
    "    return final_word\n",
    "    \n",
    "    "
   ]
  },
  {
   "cell_type": "code",
   "execution_count": 144,
   "metadata": {},
   "outputs": [
    {
     "data": {
      "text/plain": [
       "[8, 5, 12, 12, 15, 23, 18, 15, 20]"
      ]
     },
     "execution_count": 144,
     "metadata": {},
     "output_type": "execute_result"
    }
   ],
   "source": [
    "layer_decryption(layer_first_str, keys)"
   ]
  },
  {
   "cell_type": "code",
   "execution_count": 37,
   "metadata": {},
   "outputs": [
    {
     "data": {
      "text/plain": [
       "[(1, 7), (8, 11), (8, 13)]"
      ]
     },
     "execution_count": 37,
     "metadata": {},
     "output_type": "execute_result"
    }
   ],
   "source": [
    "\n",
    "mes = [8, 5, 12, 12, 15, 23, 15, 18, 12, 4]\n",
    "keys = [7, 11, 13]\n",
    "keys_q = [1,3,5]\n",
    "remainders = []\n",
    "for i in mes:\n",
    "    for key in keys:\n",
    "        remainders.append((i % key, key))\n",
    "    break\n",
    "remainders"
   ]
  },
  {
   "cell_type": "code",
   "execution_count": 137,
   "metadata": {},
   "outputs": [
    {
     "data": {
      "text/plain": [
       "'Key&nbspword'"
      ]
     },
     "execution_count": 137,
     "metadata": {},
     "output_type": "execute_result"
    }
   ],
   "source": [
    "\" \""
   ]
  },
  {
   "cell_type": "code",
   "execution_count": 129,
   "metadata": {},
   "outputs": [
    {
     "data": {
      "text/plain": [
       "[7, 11, 13]"
      ]
     },
     "execution_count": 129,
     "metadata": {},
     "output_type": "execute_result"
    }
   ],
   "source": [
    "keys"
   ]
  },
  {
   "cell_type": "code",
   "execution_count": 20,
   "metadata": {},
   "outputs": [
    {
     "name": "stdout",
     "output_type": "stream",
     "text": [
      "The number is: 8\n"
     ]
    }
   ],
   "source": [
    "def chinese_remainder_theorem(modules, remainders):\n",
    "    # Step 3: Calculate N\n",
    "    N = 1\n",
    "    for mod in modules:\n",
    "        N *= mod\n",
    "\n",
    "    result = 0\n",
    "    for i in range(len(modules)):\n",
    "        mod = modules[i]\n",
    "        remainder = remainders[i]\n",
    "\n",
    "        # Step 4: Calculate n_i\n",
    "        n_i = N // mod\n",
    "\n",
    "        # Step 5: Calculate x_i\n",
    "        x_i = pow(n_i, -1, mod)  # Modular multiplicative inverse\n",
    "\n",
    "        result += remainder * n_i * x_i\n",
    "\n",
    "    # Step 6: Calculate the final result\n",
    "    return result % N\n",
    "\n",
    "# Test with modules [3, 5, 7] and remainders [2, 3, 1] for number 8\n",
    "modules = keys # p\n",
    "remainders = [i[0] for i in remainders ] #p \n",
    "result = chinese_remainder_theorem(modules, remainders)\n",
    "print(\"The number is:\", result)"
   ]
  },
  {
   "cell_type": "code",
   "execution_count": 21,
   "metadata": {},
   "outputs": [
    {
     "data": {
      "text/plain": [
       "[1, 8, 8]"
      ]
     },
     "execution_count": 21,
     "metadata": {},
     "output_type": "execute_result"
    }
   ],
   "source": [
    "remainders"
   ]
  },
  {
   "cell_type": "code",
   "execution_count": 31,
   "metadata": {},
   "outputs": [
    {
     "data": {
      "text/plain": [
       "[1, 8, 8]"
      ]
     },
     "execution_count": 31,
     "metadata": {},
     "output_type": "execute_result"
    }
   ],
   "source": [
    "\n",
    "\n",
    "remainders_from_f = []\n",
    "for i in [1,8,8]:\n",
    "    remainder_q = [  ]\n",
    "    for j in encrypt(i, keys_q):\n",
    "        remainder_q.append(j)\n",
    "        \n",
    "    \n",
    "    remainders_from_f.append(chinese_remainder_theorem(keys_q, remainder_q))\n",
    "remainders_from_f"
   ]
  },
  {
   "cell_type": "code",
   "execution_count": 32,
   "metadata": {},
   "outputs": [
    {
     "data": {
      "text/plain": [
       "8"
      ]
     },
     "execution_count": 32,
     "metadata": {},
     "output_type": "execute_result"
    }
   ],
   "source": [
    "chinese_remainder_theorem(keys, remainders_from_f)"
   ]
  }
 ],
 "metadata": {
  "kernelspec": {
   "display_name": "Python 3",
   "language": "python",
   "name": "python3"
  },
  "language_info": {
   "codemirror_mode": {
    "name": "ipython",
    "version": 3
   },
   "file_extension": ".py",
   "mimetype": "text/x-python",
   "name": "python",
   "nbconvert_exporter": "python",
   "pygments_lexer": "ipython3",
   "version": "3.9.8"
  },
  "orig_nbformat": 4
 },
 "nbformat": 4,
 "nbformat_minor": 2
}
